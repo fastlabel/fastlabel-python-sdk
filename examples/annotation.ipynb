{
  "cells": [
    {
      "cell_type": "markdown",
      "metadata": {
        "id": "Ivoy3t4Zc_KT"
      },
      "source": [
        "# 初期化"
      ]
    },
    {
      "cell_type": "code",
      "execution_count": null,
      "metadata": {
        "colab": {
          "base_uri": "https://localhost:8080/",
          "height": 762
        },
        "id": "d67dSgvQc7X7",
        "outputId": "6381b3aa-d478-41b7-8736-53da7291052b"
      },
      "outputs": [],
      "source": [
        "!pip install fastlabel"
      ]
    },
    {
      "cell_type": "markdown",
      "metadata": {
        "id": "ZWuXMoh_ZIGI"
      },
      "source": [
        "# SDK  Example codes\n"
      ]
    },
    {
      "cell_type": "markdown",
      "metadata": {
        "id": "E57w0Lu3Zi5A"
      },
      "source": [
        "## 1. プロジェクトの作成とタスクの追加"
      ]
    },
    {
      "cell_type": "markdown",
      "metadata": {},
      "source": [
        "#### 使い方\n",
        "1. project_slugが\"fastlabel-sample\"のプロジェクトが既にある場合、削除する\n",
        "2. パラメータのFASTLABEL_ACCESS_TOKENを設定\n",
        "3. 実行\n",
        "\n",
        "#### パラメータ\n",
        "1. FASTLABEL_ACCESS_TOKEN:　プラットフォーム上で発行するアクセストークン"
      ]
    },
    {
      "cell_type": "code",
      "execution_count": null,
      "metadata": {
        "id": "DJ0ESCMNZp0b"
      },
      "outputs": [],
      "source": [
        "import fastlabel\n",
        "import os\n",
        "\n",
        "FASTLABEL_ACCESS_TOKEN = \"sample-token\" # Replace with your access token\n",
        "PROJECT_NAME = \"fastlabel-sample\" # Don't need to change this\n",
        "PROJECT_SLUG = \"fastlabel-sample\" # Don't need to change this\n",
        "\n",
        "# Initialize client\n",
        "os.environ[\"FASTLABEL_ACCESS_TOKEN\"] = FASTLABEL_ACCESS_TOKEN\n",
        "client = fastlabel.Client()\n",
        "\n",
        "# Create a project\n",
        "project = client.create_project(type=\"image_bbox\", name=PROJECT_NAME, slug=PROJECT_SLUG)\n",
        "\n",
        "# Create tasks\n",
        "tasks = [\n",
        "    {\"name\": \"sample1.jpg\", \"file_path\": \"./sample_data/images/sample1.jpg\"},\n",
        "    {\"name\": \"sample2.jpg\", \"file_path\": \"./sample_data/images/sample2.jpg\"},\n",
        "]\n",
        "\n",
        "for task in tasks:\n",
        "    task_id = client.create_image_task(\n",
        "        project=PROJECT_SLUG,\n",
        "        name=task[\"name\"],\n",
        "        file_path=task[\"file_path\"],\n",
        "    )\n"
      ]
    },
    {
      "cell_type": "markdown",
      "metadata": {
        "id": "Q9scAxMMsISH"
      },
      "source": [
        "## 2. COCO形式のファイルからプロジェクトを作成"
      ]
    },
    {
      "cell_type": "markdown",
      "metadata": {},
      "source": [
        "#### 使い方\n",
        "1. 名前が\"fastlabel-sample\"のプロジェクトが既にある場合、削除する\n",
        "2. パラメータのFASTLABEL_ACCESS_TOKENを設定\n",
        "3. 実行\n",
        "\n",
        "#### パラメータ\n",
        "1. FASTLABEL_ACCESS_TOKEN:　プラットフォーム上で発行するアクセストークン"
      ]
    },
    {
      "cell_type": "code",
      "execution_count": null,
      "metadata": {
        "id": "hpUhX74wsSdb"
      },
      "outputs": [],
      "source": [
        "import fastlabel\n",
        "import os\n",
        "\n",
        "FASTLABEL_ACCESS_TOKEN = \"sample-token\" # Replace with your access token\n",
        "PROJECT_NAME = \"fastlabel-sample\" # Don't need to change this\n",
        "PROJECT_SLUG = \"fastlabel-sample\" # Don't need to change this\n",
        "ANNOTATION_TYPE = \"polygon\" # Don't need to change this\n",
        "\n",
        "# Initialize client\n",
        "os.environ[\"FASTLABEL_ACCESS_TOKEN\"] = FASTLABEL_ACCESS_TOKEN\n",
        "client = fastlabel.Client()\n",
        "\n",
        "# Create a project\n",
        "project = client.create_project(\n",
        "    type=\"image_polygon\", name=PROJECT_NAME, slug=PROJECT_SLUG\n",
        ")\n",
        "\n",
        "# Read annotations from COCO format\n",
        "annotations_map = client.convert_coco_to_fastlabel(\n",
        "    file_path=\"./sample_data/annotation/coco/annotations.json\",\n",
        "    annotation_type=ANNOTATION_TYPE,\n",
        ")\n",
        "\n",
        "# Create annotation class\n",
        "value_set = set()\n",
        "for key in annotations_map.keys():\n",
        "    for annotation in annotations_map[key]:\n",
        "        value_set.add(annotation[\"value\"])\n",
        "for value in value_set:\n",
        "    annotation_id = client.create_annotation(\n",
        "        project=PROJECT_SLUG, type=ANNOTATION_TYPE, value=value, title=value\n",
        "    )\n",
        "\n",
        "# Create tasks\n",
        "tasks = [\n",
        "    {\"name\": \"sample1.jpg\", \"file_path\": \"./sample_data/images/sample1.jpg\"},\n",
        "    {\"name\": \"sample2.jpg\", \"file_path\": \"./sample_data/images/sample2.jpg\"},\n",
        "]\n",
        "\n",
        "for task in tasks:\n",
        "    task_id = client.create_image_task(\n",
        "        project=PROJECT_SLUG,\n",
        "        name=task[\"name\"],\n",
        "        file_path=task[\"file_path\"],\n",
        "        annotations=annotations_map.get(task[\"name\"]),\n",
        "    )\n"
      ]
    },
    {
      "cell_type": "markdown",
      "metadata": {
        "id": "s-HlgFW1s6s7"
      },
      "source": [
        "## 3. プロジェクトからCOCO形式でエクスポート"
      ]
    },
    {
      "cell_type": "markdown",
      "metadata": {},
      "source": [
        "#### 使い方\n",
        "1. タスクのアノテーションが登録されたプロジェクトを用意する\n",
        "2. パラメータのFASTLABEL_ACCESS_TOKENを設定\n",
        "3. パラメータのPROJECT_SLUGに用意したプロジェクトのslugを設定\n",
        "4. 実行(outputディレクトリが作成されます)\n",
        "\n",
        "#### パラメータ\n",
        "1. FASTLABEL_ACCESS_TOKEN:　プラットフォーム上で発行するアクセストークン\n",
        "2. PROJECT_SLUG:　プロジェクトのスラッグ"
      ]
    },
    {
      "cell_type": "code",
      "execution_count": null,
      "metadata": {
        "id": "0iqHwjrRtCOI"
      },
      "outputs": [],
      "source": [
        "import fastlabel\n",
        "import os\n",
        "\n",
        "FASTLABEL_ACCESS_TOKEN = \"sample-token\" # Replace with your access token\n",
        "PROJECT_SLUG = \"fastlabel-sample\" # Replace with your project slug\n",
        "\n",
        "# Initialize client\n",
        "os.environ[\"FASTLABEL_ACCESS_TOKEN\"] = FASTLABEL_ACCESS_TOKEN\n",
        "client = fastlabel.Client()\n",
        "\n",
        "# export coco format\n",
        "tasks = client.get_image_tasks(project=PROJECT_SLUG)\n",
        "client.export_coco(project=PROJECT_SLUG, tasks=tasks)\n"
      ]
    },
    {
      "cell_type": "markdown",
      "metadata": {
        "id": "dlPDemfWuwY3"
      },
      "source": [
        "## 4. instance/semanticのマスク画像を出力"
      ]
    },
    {
      "cell_type": "markdown",
      "metadata": {},
      "source": [
        "#### 使い方\n",
        "1. タスクとアノテーションが登録されたセグメンテーションプロジェクトを用意する\n",
        "2. パラメータのFASTLABEL_ACCESS_TOKENを設定\n",
        "3. パラメータのPROJECT_SLUGに用意したプロジェクトのslugを設定\n",
        "4. 実行(outputディレクトリが作成されます)\n",
        "\n",
        "#### パラメータ\n",
        "1. FASTLABEL_ACCESS_TOKEN:　プラットフォーム上で発行するアクセストークン\n",
        "2. PROJECT_SLUG:　プロジェクトのスラッグ"
      ]
    },
    {
      "cell_type": "code",
      "execution_count": null,
      "metadata": {
        "id": "Ze0l4WsBvBaI"
      },
      "outputs": [],
      "source": [
        "import fastlabel\n",
        "import os\n",
        "\n",
        "FASTLABEL_ACCESS_TOKEN = \"sample-token\" # Replace with your access token\n",
        "PROJECT_SLUG = \"fastlabel-sample\" # Replace with your project slug\n",
        "\n",
        "# Initialize client\n",
        "os.environ[\"FASTLABEL_ACCESS_TOKEN\"] = FASTLABEL_ACCESS_TOKEN\n",
        "client = fastlabel.Client()\n",
        "\n",
        "# export segmentation file\n",
        "tasks = client.get_image_tasks(project=PROJECT_SLUG)\n",
        "client.export_instance_segmentation(tasks)\n",
        "\n",
        "tasks = client.get_image_tasks(project=PROJECT_SLUG)\n",
        "client.export_semantic_segmentation(tasks)\n"
      ]
    },
    {
      "cell_type": "markdown",
      "metadata": {
        "id": "L2_ToxKWMHCt"
      },
      "source": [
        "## 5. 画像プロジェクトの全てのタスクを取得"
      ]
    },
    {
      "cell_type": "markdown",
      "metadata": {},
      "source": [
        "#### 使い方\n",
        "1. タスクが登録された画像プロジェクトを用意する\n",
        "2. パラメータのFASTLABEL_ACCESS_TOKENを設定\n",
        "3. パラメータのPROJECT_SLUGに用意したプロジェクトのslugを設定\n",
        "4. 実行\n",
        "\n",
        "#### パラメータ\n",
        "1. FASTLABEL_ACCESS_TOKEN:　プラットフォーム上で発行するアクセストークン\n",
        "2. PROJECT_SLUG:　プロジェクトのスラッグ"
      ]
    },
    {
      "cell_type": "code",
      "execution_count": null,
      "metadata": {
        "colab": {
          "base_uri": "https://localhost:8080/"
        },
        "id": "cIQKmFrjMU4y",
        "outputId": "e47b9b5d-83cd-40af-ee28-a305ec12569b"
      },
      "outputs": [],
      "source": [
        "import fastlabel\n",
        "import os\n",
        "\n",
        "FASTLABEL_ACCESS_TOKEN = \"sample-token\" # Replace with your access token\n",
        "PROJECT_SLUG = \"fastlabel-sample\" # Replace with your project slug\n",
        "\n",
        "# Initialize client\n",
        "os.environ[\"FASTLABEL_ACCESS_TOKEN\"] = FASTLABEL_ACCESS_TOKEN\n",
        "client = fastlabel.Client()\n",
        "\n",
        "\n",
        "def get_all_tasks(\n",
        "    project_slug: str, status: str = None, external_status: str = None, tags: list = []\n",
        ") -> list:\n",
        "\n",
        "    # Iterate pages until new tasks are empty.\n",
        "    result = []\n",
        "    offset = None\n",
        "\n",
        "    print(\"Fetching tasks...\")\n",
        "    while True:\n",
        "        tasks = client.get_image_tasks(\n",
        "            # Change to another method (e.g., get_video_tasks) based on your requirement.\n",
        "            project=project_slug,\n",
        "            status=status,\n",
        "            external_status=external_status,\n",
        "            tags=tags,\n",
        "            limit=100,\n",
        "            offset=offset,\n",
        "        )\n",
        "        result.extend(tasks)\n",
        "\n",
        "        if len(tasks) > 0:\n",
        "            offset = len(result)\n",
        "            print(offset, \" fetched\")\n",
        "        else:\n",
        "            break\n",
        "\n",
        "    print(\"Fetching tasks finished!\")\n",
        "    print(\"Total tasks count: \", len(result))\n",
        "    return result\n",
        "\n",
        "\n",
        "if __name__ == \"__main__\":\n",
        "    print(get_all_tasks(project_slug=PROJECT_SLUG))\n"
      ]
    }
  ],
  "metadata": {
    "colab": {
      "collapsed_sections": [
        "Ivoy3t4Zc_KT",
        "E57w0Lu3Zi5A",
        "PgEX0Q6LqHNG",
        "Q9scAxMMsISH"
      ],
      "provenance": []
    },
    "kernelspec": {
      "display_name": "Python 3",
      "name": "python3"
    },
    "language_info": {
      "codemirror_mode": {
        "name": "ipython",
        "version": 3
      },
      "file_extension": ".py",
      "mimetype": "text/x-python",
      "name": "python",
      "nbconvert_exporter": "python",
      "pygments_lexer": "ipython3",
      "version": "3.11.9"
    }
  },
  "nbformat": 4,
  "nbformat_minor": 0
}
