{
  "cells": [
    {
      "cell_type": "markdown",
      "metadata": {
        "id": "Ivoy3t4Zc_KT"
      },
      "source": [
        "# 初期化"
      ]
    },
    {
      "cell_type": "code",
      "execution_count": null,
      "metadata": {
        "colab": {
          "base_uri": "https://localhost:8080/",
          "height": 762
        },
        "id": "d67dSgvQc7X7",
        "outputId": "6381b3aa-d478-41b7-8736-53da7291052b"
      },
      "outputs": [],
      "source": [
        "!pip install fastlabel"
      ]
    },
    {
      "cell_type": "markdown",
      "metadata": {
        "id": "ZWuXMoh_ZIGI"
      },
      "source": [
        "# SDK  Example codes\n"
      ]
    },
    {
      "cell_type": "markdown",
      "metadata": {
        "id": "PgEX0Q6LqHNG"
      },
      "source": [
        "## 1. データセットの作成とモデル学習の実行"
      ]
    },
    {
      "cell_type": "markdown",
      "metadata": {},
      "source": [
        "#### 使い方\n",
        "1. 名前が\"fastlabel-sample\"のデータセットが既にある場合、削除する\n",
        "2. パラメータのFASTLABEL_ACCESS_TOKENを設定\n",
        "3. 実行\n",
        "\n",
        "#### パラメータ\n",
        "1. FASTLABEL_ACCESS_TOKEN:　プラットフォーム上で発行するアクセストークン"
      ]
    },
    {
      "cell_type": "code",
      "execution_count": null,
      "metadata": {
        "id": "jYC_2ZP9qOIW"
      },
      "outputs": [],
      "source": [
        "import fastlabel\n",
        "import json\n",
        "import os\n",
        "\n",
        "FASTLABEL_ACCESS_TOKEN = \"sample-token\" # Replace with your access token\n",
        "DATASET_NAME = \"fastlabel-sample\" # Don't need to change this\n",
        "\n",
        "# Initialize client\n",
        "os.environ[\"FASTLABEL_ACCESS_TOKEN\"] = FASTLABEL_ACCESS_TOKEN\n",
        "client = fastlabel.Client()\n",
        "\n",
        "# create dataset\n",
        "dataset = client.create_dataset(\n",
        "    name=DATASET_NAME,\n",
        ")\n",
        "\n",
        "# load annotations\n",
        "def remove_unnecessary_keys(annotations):\n",
        "    keys_to_remove = [\"id\", \"color\"]\n",
        "    clean_annotation = [\n",
        "        {k: v for k, v in annotation.items() if k not in keys_to_remove}\n",
        "        for annotation in annotations\n",
        "    ]\n",
        "    return clean_annotation\n",
        "\n",
        "\n",
        "with open(\"./sample_data/annotation/fastlabel/annotations.json\", \"r\") as f:\n",
        "    annotations = json.load(f)\n",
        "    name_annotation_map = {}\n",
        "    for annotation in annotations:\n",
        "        name = annotation[\"name\"]\n",
        "        name_annotation_map[name] = remove_unnecessary_keys(annotation[\"annotations\"])\n",
        "\n",
        "# create dataset objects\n",
        "objects = [\n",
        "    {\"name\": \"sample1.jpg\", \"file_path\": \"./sample_data/images/sample1.jpg\"},\n",
        "    {\"name\": \"sample2.jpg\", \"file_path\": \"./sample_data/images/sample2.jpg\"},\n",
        "]\n",
        "\n",
        "for object in objects:\n",
        "    dataset_object = client.create_dataset_object(\n",
        "        dataset=DATASET_NAME,\n",
        "        name=object[\"name\"],\n",
        "        file_path=object[\"file_path\"],\n",
        "        tags=[],  # max 5 tags per dataset object.\n",
        "        licenses=[\"MIT\"],  # max 10 licenses per dataset object\n",
        "        annotations=name_annotation_map[object[\"name\"]],\n",
        "    )\n",
        "\n",
        "# train model\n",
        "training_job = client.execute_training_job(\n",
        "    dataset_name=DATASET_NAME,\n",
        "    base_model_name=\"fastlabel_object_detection_light\",\n",
        "    epoch=300,\n",
        ")\n"
      ]
    },
    {
      "cell_type": "markdown",
      "metadata": {
        "id": "D-_S76CYOAN5"
      },
      "source": [
        "## 2. データセットの全てのオブジェクトを取得"
      ]
    },
    {
      "cell_type": "markdown",
      "metadata": {},
      "source": [
        "#### 使い方\n",
        "1. オブジェクトが登録されたデータセットを用意する\n",
        "2. パラメータのFASTLABEL_ACCESS_TOKENを設定\n",
        "3. パラメータのDATASET_NAMEに用意したプロジェクトの名前を設定\n",
        "4. 実行\n",
        "\n",
        "#### パラメータ\n",
        "1. FASTLABEL_ACCESS_TOKEN:　プラットフォーム上で発行するアクセストークン\n",
        "2. DATASET_NAME:　データセットの名前"
      ]
    },
    {
      "cell_type": "code",
      "execution_count": null,
      "metadata": {
        "colab": {
          "base_uri": "https://localhost:8080/"
        },
        "id": "-mfFOZzCOHMi",
        "outputId": "1e2370ef-c22a-4388-e253-84e712985b1d"
      },
      "outputs": [],
      "source": [
        "import fastlabel\n",
        "import os\n",
        "\n",
        "FASTLABEL_ACCESS_TOKEN = \"sample-token\" # Replace with your access token\n",
        "DATASET_NAME = \"fastlabel-sample\" # Replace with your dataset name\n",
        "\n",
        "# Initialize client\n",
        "os.environ[\"FASTLABEL_ACCESS_TOKEN\"] = FASTLABEL_ACCESS_TOKEN\n",
        "client = fastlabel.Client()\n",
        "\n",
        "\n",
        "def get_all_dataset_objects(dataset_name: str, tags: list[str] = None):\n",
        "    # Iterate pages until new tasks are empty.\n",
        "    result = []\n",
        "    offset = None\n",
        "\n",
        "    print(\"Fetching dataset objects...\")\n",
        "    while True:\n",
        "        datasets = client.get_dataset_objects(\n",
        "            dataset=dataset_name, tags=tags, offset=offset\n",
        "        )\n",
        "        result.extend(datasets)\n",
        "\n",
        "        if len(datasets) > 0:\n",
        "            offset = len(result)\n",
        "            print(offset, \" fetched\")\n",
        "        else:\n",
        "            break\n",
        "\n",
        "    print(\"Fetching dataset objects finished!\")\n",
        "    print(\"Total dataset object count: \", len(result))\n",
        "    return result\n",
        "\n",
        "\n",
        "if __name__ == \"__main__\":\n",
        "    print(get_all_dataset_objects(dataset_name=DATASET_NAME))\n"
      ]
    }
  ],
  "metadata": {
    "colab": {
      "collapsed_sections": [
        "Ivoy3t4Zc_KT",
        "E57w0Lu3Zi5A",
        "PgEX0Q6LqHNG",
        "Q9scAxMMsISH"
      ],
      "provenance": []
    },
    "kernelspec": {
      "display_name": "Python 3",
      "name": "python3"
    },
    "language_info": {
      "codemirror_mode": {
        "name": "ipython",
        "version": 3
      },
      "file_extension": ".py",
      "mimetype": "text/x-python",
      "name": "python",
      "nbconvert_exporter": "python",
      "pygments_lexer": "ipython3",
      "version": "3.11.9"
    }
  },
  "nbformat": 4,
  "nbformat_minor": 0
}
