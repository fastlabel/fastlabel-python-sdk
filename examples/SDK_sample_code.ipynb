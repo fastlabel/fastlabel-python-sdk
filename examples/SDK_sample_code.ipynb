{
  "cells": [
    {
      "cell_type": "markdown",
      "metadata": {
        "id": "Ivoy3t4Zc_KT"
      },
      "source": [
        "# 初期化"
      ]
    },
    {
      "cell_type": "code",
      "execution_count": 4,
      "metadata": {
        "colab": {
          "base_uri": "https://localhost:8080/",
          "height": 762
        },
        "id": "d67dSgvQc7X7",
        "outputId": "6381b3aa-d478-41b7-8736-53da7291052b"
      },
      "outputs": [
        {
          "name": "stdout",
          "output_type": "stream",
          "text": [
            "Collecting fastlabel\n",
            "  Downloading fastlabel-0.15.8-py3-none-any.whl.metadata (80 kB)\n",
            "\u001b[2K     \u001b[90m━━━━━━━━━━━━━━━━━━━━━━━━━━━━━━━━━━━━━━━━\u001b[0m \u001b[32m80.1/80.1 kB\u001b[0m \u001b[31m2.4 MB/s\u001b[0m eta \u001b[36m0:00:00\u001b[0m\n",
            "\u001b[?25hCollecting requests<3.0,>=2.4.2 (from fastlabel)\n",
            "  Using cached requests-2.32.3-py3-none-any.whl.metadata (4.6 kB)\n",
            "Collecting numpy<2.0.0,>=1.26.0 (from fastlabel)\n",
            "  Downloading numpy-1.26.4-cp311-cp311-macosx_11_0_arm64.whl.metadata (114 kB)\n",
            "\u001b[2K     \u001b[90m━━━━━━━━━━━━━━━━━━━━━━━━━━━━━━━━━━━━━━━\u001b[0m \u001b[32m114.8/114.8 kB\u001b[0m \u001b[31m3.0 MB/s\u001b[0m eta \u001b[36m0:00:00\u001b[0m\n",
            "\u001b[?25hCollecting geojson<4.0,>=2.0.0 (from fastlabel)\n",
            "  Using cached geojson-3.1.0-py3-none-any.whl.metadata (16 kB)\n",
            "Collecting xmltodict==0.12.0 (from fastlabel)\n",
            "  Using cached xmltodict-0.12.0-py2.py3-none-any.whl.metadata (6.3 kB)\n",
            "Collecting Pillow<11.0.0,>=10.0.0 (from fastlabel)\n",
            "  Downloading pillow-10.4.0-cp311-cp311-macosx_11_0_arm64.whl.metadata (9.2 kB)\n",
            "Collecting opencv-python<5.0.0,>=4.0.0 (from fastlabel)\n",
            "  Using cached opencv_python-4.10.0.84-cp37-abi3-macosx_11_0_arm64.whl.metadata (20 kB)\n",
            "Collecting aiohttp>=3.8.5 (from fastlabel)\n",
            "  Downloading aiohttp-3.10.5-cp311-cp311-macosx_11_0_arm64.whl.metadata (7.5 kB)\n",
            "Collecting aiohappyeyeballs>=2.3.0 (from aiohttp>=3.8.5->fastlabel)\n",
            "  Downloading aiohappyeyeballs-2.4.0-py3-none-any.whl.metadata (5.9 kB)\n",
            "Collecting aiosignal>=1.1.2 (from aiohttp>=3.8.5->fastlabel)\n",
            "  Using cached aiosignal-1.3.1-py3-none-any.whl.metadata (4.0 kB)\n",
            "Collecting attrs>=17.3.0 (from aiohttp>=3.8.5->fastlabel)\n",
            "  Downloading attrs-24.2.0-py3-none-any.whl.metadata (11 kB)\n",
            "Collecting frozenlist>=1.1.1 (from aiohttp>=3.8.5->fastlabel)\n",
            "  Downloading frozenlist-1.4.1-cp311-cp311-macosx_11_0_arm64.whl.metadata (12 kB)\n",
            "Collecting multidict<7.0,>=4.5 (from aiohttp>=3.8.5->fastlabel)\n",
            "  Downloading multidict-6.0.5-cp311-cp311-macosx_11_0_arm64.whl.metadata (4.2 kB)\n",
            "Collecting yarl<2.0,>=1.0 (from aiohttp>=3.8.5->fastlabel)\n",
            "  Downloading yarl-1.9.4-cp311-cp311-macosx_11_0_arm64.whl.metadata (31 kB)\n",
            "Collecting charset-normalizer<4,>=2 (from requests<3.0,>=2.4.2->fastlabel)\n",
            "  Downloading charset_normalizer-3.3.2-cp311-cp311-macosx_11_0_arm64.whl.metadata (33 kB)\n",
            "Collecting idna<4,>=2.5 (from requests<3.0,>=2.4.2->fastlabel)\n",
            "  Downloading idna-3.8-py3-none-any.whl.metadata (9.9 kB)\n",
            "Collecting urllib3<3,>=1.21.1 (from requests<3.0,>=2.4.2->fastlabel)\n",
            "  Using cached urllib3-2.2.2-py3-none-any.whl.metadata (6.4 kB)\n",
            "Collecting certifi>=2017.4.17 (from requests<3.0,>=2.4.2->fastlabel)\n",
            "  Using cached certifi-2024.7.4-py3-none-any.whl.metadata (2.2 kB)\n",
            "Downloading fastlabel-0.15.8-py3-none-any.whl (45 kB)\n",
            "\u001b[2K   \u001b[90m━━━━━━━━━━━━━━━━━━━━━━━━━━━━━━━━━━━━━━━━\u001b[0m \u001b[32m45.1/45.1 kB\u001b[0m \u001b[31m3.9 MB/s\u001b[0m eta \u001b[36m0:00:00\u001b[0m\n",
            "\u001b[?25hUsing cached xmltodict-0.12.0-py2.py3-none-any.whl (9.2 kB)\n",
            "Downloading aiohttp-3.10.5-cp311-cp311-macosx_11_0_arm64.whl (388 kB)\n",
            "\u001b[2K   \u001b[90m━━━━━━━━━━━━━━━━━━━━━━━━━━━━━━━━━━━━━━━━\u001b[0m \u001b[32m389.0/389.0 kB\u001b[0m \u001b[31m6.1 MB/s\u001b[0m eta \u001b[36m0:00:00\u001b[0ma \u001b[36m0:00:01\u001b[0m\n",
            "\u001b[?25hUsing cached geojson-3.1.0-py3-none-any.whl (15 kB)\n",
            "Downloading numpy-1.26.4-cp311-cp311-macosx_11_0_arm64.whl (14.0 MB)\n",
            "\u001b[2K   \u001b[90m━━━━━━━━━━━━━━━━━━━━━━━━━━━━━━━━━━━━━━━━\u001b[0m \u001b[32m14.0/14.0 MB\u001b[0m \u001b[31m5.3 MB/s\u001b[0m eta \u001b[36m0:00:00\u001b[0m00:01\u001b[0m00:01\u001b[0m\n",
            "\u001b[?25hUsing cached opencv_python-4.10.0.84-cp37-abi3-macosx_11_0_arm64.whl (54.8 MB)\n",
            "Downloading pillow-10.4.0-cp311-cp311-macosx_11_0_arm64.whl (3.4 MB)\n",
            "\u001b[2K   \u001b[90m━━━━━━━━━━━━━━━━━━━━━━━━━━━━━━━━━━━━━━━━\u001b[0m \u001b[32m3.4/3.4 MB\u001b[0m \u001b[31m4.6 MB/s\u001b[0m eta \u001b[36m0:00:00\u001b[0ma \u001b[36m0:00:01\u001b[0m\n",
            "\u001b[?25hUsing cached requests-2.32.3-py3-none-any.whl (64 kB)\n",
            "Downloading aiohappyeyeballs-2.4.0-py3-none-any.whl (12 kB)\n",
            "Using cached aiosignal-1.3.1-py3-none-any.whl (7.6 kB)\n",
            "Downloading attrs-24.2.0-py3-none-any.whl (63 kB)\n",
            "\u001b[2K   \u001b[90m━━━━━━━━━━━━━━━━━━━━━━━━━━━━━━━━━━━━━━━━\u001b[0m \u001b[32m63.0/63.0 kB\u001b[0m \u001b[31m3.8 MB/s\u001b[0m eta \u001b[36m0:00:00\u001b[0m\n",
            "\u001b[?25hUsing cached certifi-2024.7.4-py3-none-any.whl (162 kB)\n",
            "Downloading charset_normalizer-3.3.2-cp311-cp311-macosx_11_0_arm64.whl (118 kB)\n",
            "\u001b[2K   \u001b[90m━━━━━━━━━━━━━━━━━━━━━━━━━━━━━━━━━━━━━━━━\u001b[0m \u001b[32m119.0/119.0 kB\u001b[0m \u001b[31m4.2 MB/s\u001b[0m eta \u001b[36m0:00:00\u001b[0m\n",
            "\u001b[?25hDownloading frozenlist-1.4.1-cp311-cp311-macosx_11_0_arm64.whl (53 kB)\n",
            "\u001b[2K   \u001b[90m━━━━━━━━━━━━━━━━━━━━━━━━━━━━━━━━━━━━━━━━\u001b[0m \u001b[32m53.4/53.4 kB\u001b[0m \u001b[31m4.3 MB/s\u001b[0m eta \u001b[36m0:00:00\u001b[0m\n",
            "\u001b[?25hDownloading idna-3.8-py3-none-any.whl (66 kB)\n",
            "\u001b[2K   \u001b[90m━━━━━━━━━━━━━━━━━━━━━━━━━━━━━━━━━━━━━━━━\u001b[0m \u001b[32m66.9/66.9 kB\u001b[0m \u001b[31m3.8 MB/s\u001b[0m eta \u001b[36m0:00:00\u001b[0m\n",
            "\u001b[?25hDownloading multidict-6.0.5-cp311-cp311-macosx_11_0_arm64.whl (30 kB)\n",
            "Using cached urllib3-2.2.2-py3-none-any.whl (121 kB)\n",
            "Downloading yarl-1.9.4-cp311-cp311-macosx_11_0_arm64.whl (81 kB)\n",
            "\u001b[2K   \u001b[90m━━━━━━━━━━━━━━━━━━━━━━━━━━━━━━━━━━━━━━━━\u001b[0m \u001b[32m81.2/81.2 kB\u001b[0m \u001b[31m3.9 MB/s\u001b[0m eta \u001b[36m0:00:00\u001b[0m\n",
            "\u001b[?25hInstalling collected packages: xmltodict, urllib3, Pillow, numpy, multidict, idna, geojson, frozenlist, charset-normalizer, certifi, attrs, aiohappyeyeballs, yarl, requests, opencv-python, aiosignal, aiohttp, fastlabel\n",
            "Successfully installed Pillow-10.4.0 aiohappyeyeballs-2.4.0 aiohttp-3.10.5 aiosignal-1.3.1 attrs-24.2.0 certifi-2024.7.4 charset-normalizer-3.3.2 fastlabel-0.15.8 frozenlist-1.4.1 geojson-3.1.0 idna-3.8 multidict-6.0.5 numpy-1.26.4 opencv-python-4.10.0.84 requests-2.32.3 urllib3-2.2.2 xmltodict-0.12.0 yarl-1.9.4\n",
            "\n",
            "\u001b[1m[\u001b[0m\u001b[34;49mnotice\u001b[0m\u001b[1;39;49m]\u001b[0m\u001b[39;49m A new release of pip is available: \u001b[0m\u001b[31;49m24.0\u001b[0m\u001b[39;49m -> \u001b[0m\u001b[32;49m24.2\u001b[0m\n",
            "\u001b[1m[\u001b[0m\u001b[34;49mnotice\u001b[0m\u001b[1;39;49m]\u001b[0m\u001b[39;49m To update, run: \u001b[0m\u001b[32;49mpip3 install --upgrade pip\u001b[0m\n"
          ]
        }
      ],
      "source": [
        "!pip install fastlabel"
      ]
    },
    {
      "cell_type": "markdown",
      "metadata": {
        "id": "ZWuXMoh_ZIGI"
      },
      "source": [
        "# SDK  Example codes\n"
      ]
    },
    {
      "cell_type": "markdown",
      "metadata": {
        "id": "E57w0Lu3Zi5A"
      },
      "source": [
        "## 1. プロジェクトの作成とタスクの追加"
      ]
    },
    {
      "cell_type": "markdown",
      "metadata": {},
      "source": [
        "#### 使い方\n",
        "1. project_slugが\"fastlabel-sample\"のプロジェクトが既にある場合、削除する\n",
        "2. パラメータのFASTLABEL_ACCESS_TOKENを設定\n",
        "3. 実行\n",
        "\n",
        "#### パラメータ\n",
        "1. FASTLABEL_ACCESS_TOKEN:　プラットフォーム上で発行するアクセストークン"
      ]
    },
    {
      "cell_type": "code",
      "execution_count": 8,
      "metadata": {
        "id": "DJ0ESCMNZp0b"
      },
      "outputs": [],
      "source": [
        "import fastlabel\n",
        "import os\n",
        "\n",
        "FASTLABEL_ACCESS_TOKEN = \"sample-token\" # Replace with your access token\n",
        "PROJECT_NAME = \"fastlabel-sample\" # Don't need to change this\n",
        "PROJECT_SLUG = \"fastlabel-sample\" # Don't need to change this\n",
        "\n",
        "# Initialize client\n",
        "os.environ[\"FASTLABEL_ACCESS_TOKEN\"] = FASTLABEL_ACCESS_TOKEN\n",
        "client = fastlabel.Client()\n",
        "\n",
        "# Create a project\n",
        "project = client.create_project(type=\"image_bbox\", name=PROJECT_NAME, slug=PROJECT_SLUG)\n",
        "\n",
        "# Create tasks\n",
        "tasks = [\n",
        "    {\"name\": \"sample1.jpg\", \"file_path\": \"./sample_data/images/sample1.jpg\"},\n",
        "    {\"name\": \"sample2.jpg\", \"file_path\": \"./sample_data/images/sample2.jpg\"},\n",
        "]\n",
        "\n",
        "for task in tasks:\n",
        "    task_id = client.create_image_task(\n",
        "        project=PROJECT_SLUG,\n",
        "        name=task[\"name\"],\n",
        "        file_path=task[\"file_path\"],\n",
        "    )\n"
      ]
    },
    {
      "cell_type": "markdown",
      "metadata": {
        "id": "PgEX0Q6LqHNG"
      },
      "source": [
        "## 2. データセットの作成とモデル学習の実行"
      ]
    },
    {
      "cell_type": "markdown",
      "metadata": {},
      "source": [
        "#### 使い方\n",
        "1. 名前が\"fastlabel-sample\"のデータセットが既にある場合、削除する\n",
        "2. パラメータのFASTLABEL_ACCESS_TOKENを設定\n",
        "3. 実行\n",
        "\n",
        "#### パラメータ\n",
        "1. FASTLABEL_ACCESS_TOKEN:　プラットフォーム上で発行するアクセストークン"
      ]
    },
    {
      "cell_type": "code",
      "execution_count": 9,
      "metadata": {
        "id": "jYC_2ZP9qOIW"
      },
      "outputs": [],
      "source": [
        "import fastlabel\n",
        "import json\n",
        "import os\n",
        "\n",
        "FASTLABEL_ACCESS_TOKEN = \"sample-token\" # Replace with your access token\n",
        "DATASET_NAME = \"fastlabel-sample\" # Don't need to change this\n",
        "\n",
        "# Initialize client\n",
        "os.environ[\"FASTLABEL_ACCESS_TOKEN\"] = FASTLABEL_ACCESS_TOKEN\n",
        "client = fastlabel.Client()\n",
        "\n",
        "# create dataset\n",
        "dataset = client.create_dataset(\n",
        "    name=DATASET_NAME,\n",
        ")\n",
        "\n",
        "# load annotations\n",
        "def remove_unnecessary_keys(annotations):\n",
        "    keys_to_remove = [\"id\", \"color\"]\n",
        "    clean_annotation = [\n",
        "        {k: v for k, v in annotation.items() if k not in keys_to_remove}\n",
        "        for annotation in annotations\n",
        "    ]\n",
        "    return clean_annotation\n",
        "\n",
        "\n",
        "with open(\"./sample_data/annotation/fastlabel/annotations.json\", \"r\") as f:\n",
        "    annotations = json.load(f)\n",
        "    name_annotation_map = {}\n",
        "    for annotation in annotations:\n",
        "        name = annotation[\"name\"]\n",
        "        name_annotation_map[name] = remove_unnecessary_keys(annotation[\"annotations\"])\n",
        "\n",
        "# create dataset objects\n",
        "objects = [\n",
        "    {\"name\": \"sample1.jpg\", \"file_path\": \"./sample_data/images/sample1.jpg\"},\n",
        "    {\"name\": \"sample2.jpg\", \"file_path\": \"./sample_data/images/sample2.jpg\"},\n",
        "]\n",
        "\n",
        "for object in objects:\n",
        "    dataset_object = client.create_dataset_object(\n",
        "        dataset=DATASET_NAME,\n",
        "        name=object[\"name\"],\n",
        "        file_path=object[\"file_path\"],\n",
        "        tags=[],  # max 5 tags per dataset object.\n",
        "        licenses=[\"MIT\"],  # max 10 licenses per dataset object\n",
        "        annotations=name_annotation_map[object[\"name\"]],\n",
        "    )\n",
        "\n",
        "# train model\n",
        "training_job = client.execute_training_job(\n",
        "    dataset_name=DATASET_NAME,\n",
        "    base_model_name=\"fastlabel_object_detection_light\",\n",
        "    epoch=300,\n",
        ")\n"
      ]
    },
    {
      "cell_type": "markdown",
      "metadata": {
        "id": "Q9scAxMMsISH"
      },
      "source": [
        "## 3. COCO形式のファイルからプロジェクトを作成"
      ]
    },
    {
      "cell_type": "markdown",
      "metadata": {},
      "source": [
        "#### 使い方\n",
        "1. 名前が\"fastlabel-sample\"のプロジェクトが既にある場合、削除する\n",
        "2. パラメータのFASTLABEL_ACCESS_TOKENを設定\n",
        "3. 実行\n",
        "\n",
        "#### パラメータ\n",
        "1. FASTLABEL_ACCESS_TOKEN:　プラットフォーム上で発行するアクセストークン"
      ]
    },
    {
      "cell_type": "code",
      "execution_count": 10,
      "metadata": {
        "id": "hpUhX74wsSdb"
      },
      "outputs": [],
      "source": [
        "import fastlabel\n",
        "import os\n",
        "\n",
        "FASTLABEL_ACCESS_TOKEN = \"sample-token\" # Replace with your access token\n",
        "PROJECT_NAME = \"fastlabel-sample\" # Don't need to change this\n",
        "PROJECT_SLUG = \"fastlabel-sample\" # Don't need to change this\n",
        "ANNOTATION_TYPE = \"polygon\" # Don't need to change this\n",
        "\n",
        "# Initialize client\n",
        "os.environ[\"FASTLABEL_ACCESS_TOKEN\"] = FASTLABEL_ACCESS_TOKEN\n",
        "client = fastlabel.Client()\n",
        "\n",
        "# Create a project\n",
        "project = client.create_project(\n",
        "    type=\"image_polygon\", name=PROJECT_NAME, slug=PROJECT_SLUG\n",
        ")\n",
        "\n",
        "# Read annotations from COCO format\n",
        "annotations_map = client.convert_coco_to_fastlabel(\n",
        "    file_path=\"./sample_data/annotation/coco/annotations.json\",\n",
        "    annotation_type=ANNOTATION_TYPE,\n",
        ")\n",
        "\n",
        "# Create annotation class\n",
        "value_set = set()\n",
        "for key in annotations_map.keys():\n",
        "    for annotation in annotations_map[key]:\n",
        "        value_set.add(annotation[\"value\"])\n",
        "for value in value_set:\n",
        "    annotation_id = client.create_annotation(\n",
        "        project=PROJECT_SLUG, type=ANNOTATION_TYPE, value=value, title=value\n",
        "    )\n",
        "\n",
        "# Create tasks\n",
        "tasks = [\n",
        "    {\"name\": \"sample1.jpg\", \"file_path\": \"./sample_data/images/sample1.jpg\"},\n",
        "    {\"name\": \"sample2.jpg\", \"file_path\": \"./sample_data/images/sample2.jpg\"},\n",
        "]\n",
        "\n",
        "for task in tasks:\n",
        "    task_id = client.create_image_task(\n",
        "        project=PROJECT_SLUG,\n",
        "        name=task[\"name\"],\n",
        "        file_path=task[\"file_path\"],\n",
        "        annotations=annotations_map.get(task[\"name\"]),\n",
        "    )\n"
      ]
    },
    {
      "cell_type": "markdown",
      "metadata": {
        "id": "s-HlgFW1s6s7"
      },
      "source": [
        "## 4. プロジェクトからCOCO形式でエクスポート"
      ]
    },
    {
      "cell_type": "markdown",
      "metadata": {},
      "source": [
        "#### 使い方\n",
        "1. タスクのアノテーションが登録されたプロジェクトを用意する\n",
        "2. パラメータのFASTLABEL_ACCESS_TOKENを設定\n",
        "3. パラメータのPROJECT_SLUGに用意したプロジェクトのslugを設定\n",
        "4. 実行(outputディレクトリが作成されます)\n",
        "\n",
        "#### パラメータ\n",
        "1. FASTLABEL_ACCESS_TOKEN:　プラットフォーム上で発行するアクセストークン\n",
        "2. PROJECT_SLUG:　プロジェクトのスラッグ"
      ]
    },
    {
      "cell_type": "code",
      "execution_count": 11,
      "metadata": {
        "id": "0iqHwjrRtCOI"
      },
      "outputs": [],
      "source": [
        "import fastlabel\n",
        "import os\n",
        "\n",
        "FASTLABEL_ACCESS_TOKEN = \"sample-token\" # Replace with your access token\n",
        "PROJECT_SLUG = \"fastlabel-sample\" # Replace with your project slug\n",
        "\n",
        "# Initialize client\n",
        "os.environ[\"FASTLABEL_ACCESS_TOKEN\"] = FASTLABEL_ACCESS_TOKEN\n",
        "client = fastlabel.Client()\n",
        "\n",
        "# export coco format\n",
        "tasks = client.get_image_tasks(project=PROJECT_SLUG)\n",
        "client.export_coco(project=PROJECT_SLUG, tasks=tasks)\n"
      ]
    },
    {
      "cell_type": "markdown",
      "metadata": {
        "id": "dlPDemfWuwY3"
      },
      "source": [
        "## 5. instance/semanticのマスク画像を出力"
      ]
    },
    {
      "cell_type": "markdown",
      "metadata": {},
      "source": [
        "#### 使い方\n",
        "1. タスクとアノテーションが登録されたセグメンテーションプロジェクトを用意する\n",
        "2. パラメータのFASTLABEL_ACCESS_TOKENを設定\n",
        "3. パラメータのPROJECT_SLUGに用意したプロジェクトのslugを設定\n",
        "4. 実行(outputディレクトリが作成されます)\n",
        "\n",
        "#### パラメータ\n",
        "1. FASTLABEL_ACCESS_TOKEN:　プラットフォーム上で発行するアクセストークン\n",
        "2. PROJECT_SLUG:　プロジェクトのスラッグ"
      ]
    },
    {
      "cell_type": "code",
      "execution_count": null,
      "metadata": {
        "id": "Ze0l4WsBvBaI"
      },
      "outputs": [],
      "source": [
        "import fastlabel\n",
        "import os\n",
        "\n",
        "FASTLABEL_ACCESS_TOKEN = \"sample-token\" # Replace with your access token\n",
        "PROJECT_SLUG = \"fastlabel-sample\" # Replace with your project slug\n",
        "\n",
        "# Initialize client\n",
        "os.environ[\"FASTLABEL_ACCESS_TOKEN\"] = FASTLABEL_ACCESS_TOKEN\n",
        "client = fastlabel.Client()\n",
        "\n",
        "# export segmentation file\n",
        "tasks = client.get_image_tasks(project=PROJECT_SLUG)\n",
        "client.export_instance_segmentation(tasks)\n",
        "\n",
        "tasks = client.get_image_tasks(project=PROJECT_SLUG)\n",
        "client.export_semantic_segmentation(tasks)\n"
      ]
    },
    {
      "cell_type": "markdown",
      "metadata": {
        "id": "L2_ToxKWMHCt"
      },
      "source": [
        "## 6. 画像プロジェクトの全てのタスクを取得"
      ]
    },
    {
      "cell_type": "markdown",
      "metadata": {},
      "source": [
        "#### 使い方\n",
        "1. タスクが登録された画像プロジェクトを用意する\n",
        "2. パラメータのFASTLABEL_ACCESS_TOKENを設定\n",
        "3. パラメータのPROJECT_SLUGに用意したプロジェクトのslugを設定\n",
        "4. 実行\n",
        "\n",
        "#### パラメータ\n",
        "1. FASTLABEL_ACCESS_TOKEN:　プラットフォーム上で発行するアクセストークン\n",
        "2. PROJECT_SLUG:　プロジェクトのスラッグ"
      ]
    },
    {
      "cell_type": "code",
      "execution_count": null,
      "metadata": {
        "colab": {
          "base_uri": "https://localhost:8080/"
        },
        "id": "cIQKmFrjMU4y",
        "outputId": "e47b9b5d-83cd-40af-ee28-a305ec12569b"
      },
      "outputs": [
        {
          "name": "stdout",
          "output_type": "stream",
          "text": [
            "Fetching tasks...\n",
            "1  fetched\n",
            "Fetching tasks finished!\n",
            "Total tasks count:  1\n",
            "[{'id': '059d2ec7-3b79-4bb6-b999-5a1bc580dba2', 'name': 'animal_mark01_buta.jpg', 'status': 'registered', 'externalStatus': 'registered', 'url': 'https://annotations.fastlabel.ai/workspaces/7a38045c-71a9-4422-8184-f3c723af7e52/c63325b6-09e6-4fbd-9b1a-d12dcd3fe2d6/tasks/animal_mark01_buta.jpg?updatedAt=1723535926954&Expires=1723680486&Key-Pair-Id=K25YS2907X9Z7Z&Signature=Rq4Y4~g6EsOvSSNWzJKWPw5tmsCQ4EiaO062e-MYFnYsDzD8SZpqZPdf6XXxVpFKPubpP8ZeI7zxh3RVt-9O3RypcJjvQPXwBgLP9Mf0ZcR8tcsIvzmNWLg4TeRWx8rT9KxSQyyvimKbtNJQi34esbsRU~mngFUgkKNtfNuoQ7sBTx7JOprKdjYPk5XZlkMR40ybbgPhMUmnAvBWFGmjwLLts8tnyO3v65~T8CAqNfieB-TKrFf26komkx8REATeTQ07gQ2~KusUDzCqQmssEy9YF4s7kKfMqk6r3t2KSJe1Fv4fQPyvMNal1UXmWp1gEqJDQrontYcdShLbOfPa4A__', 'width': 191, 'height': 200, 'annotations': [{'id': 'd4952f51-12c6-437c-bccf-56a832750567', 'type': 'segmentation', 'title': 'a', 'value': 'a', 'color': '#FFECDB', 'attributes': [], 'points': [[[38, 36, 39, 36, 39, 33, 40, 33, 40, 30, 41, 30, 41, 28, 42, 28, 42, 26, 43, 26, 43, 25, 44, 25, 44, 24, 45, 24, 45, 23, 46, 23, 46, 22, 56, 22, 56, 23, 58, 23, 58, 25, 59, 25, 59, 28, 60, 28, 60, 30, 61, 30, 61, 36, 60, 36, 60, 39, 59, 39, 59, 40, 58, 40, 58, 41, 57, 41, 57, 43, 55, 43, 55, 45, 54, 45, 54, 46, 52, 46, 52, 47, 50, 47, 50, 48, 43, 48, 43, 49, 41, 49, 41, 48, 40, 48, 40, 46, 39, 46, 39, 45, 38, 45, 38, 36]], [[145, 27, 146, 27, 146, 25, 147, 25, 147, 24, 149, 24, 149, 23, 150, 23, 150, 22, 151, 22, 151, 21, 152, 21, 152, 20, 153, 20, 153, 19, 154, 19, 154, 18, 157, 18, 157, 17, 164, 17, 164, 18, 166, 18, 166, 20, 168, 20, 168, 30, 167, 30, 167, 31, 166, 31, 166, 33, 165, 33, 165, 34, 164, 34, 164, 35, 163, 35, 163, 36, 160, 36, 160, 37, 152, 37, 152, 36, 150, 36, 150, 35, 149, 35, 149, 34, 147, 34, 147, 33, 146, 33, 146, 30, 145, 30, 145, 27]]], 'rotation': 0, 'keypoints': [], 'confidenceScore': -1}, {'id': 'dfd94db6-9168-441f-9f1f-9fc5a20e64a5', 'type': 'segmentation', 'title': 'b', 'value': 'b', 'color': '#715edb', 'attributes': [], 'points': [[[134, 115, 135, 115, 135, 114, 136, 114, 136, 113, 138, 113, 138, 112, 139, 112, 139, 111, 140, 111, 140, 110, 141, 110, 141, 109, 142, 109, 142, 108, 143, 108, 143, 107, 147, 107, 147, 106, 154, 106, 154, 107, 156, 107, 156, 108, 157, 108, 157, 109, 159, 109, 159, 110, 160, 110, 160, 111, 161, 111, 161, 112, 162, 112, 162, 113, 163, 113, 163, 116, 164, 116, 164, 117, 165, 117, 165, 127, 164, 127, 164, 130, 163, 130, 163, 132, 162, 132, 162, 133, 161, 133, 161, 134, 150, 134, 150, 133, 149, 133, 149, 132, 148, 132, 148, 131, 146, 131, 146, 129, 145, 129, 145, 128, 144, 128, 144, 127, 142, 127, 142, 128, 141, 128, 141, 127, 140, 127, 140, 126, 138, 126, 138, 125, 137, 125, 137, 124, 136, 124, 136, 123, 134, 123, 134, 115]]], 'rotation': 0, 'keypoints': [], 'confidenceScore': -1}], 'relations': [], 'tags': [], 'assignee': None, 'reviewer': None, 'approver': None, 'externalAssignee': None, 'externalReviewer': None, 'externalApprover': None, 'priority': 0, 'createdAt': '2024-08-13T07:58:46.932Z', 'updatedAt': '2024-08-13T07:58:46.932Z'}]\n"
          ]
        }
      ],
      "source": [
        "import fastlabel\n",
        "import os\n",
        "\n",
        "FASTLABEL_ACCESS_TOKEN = \"sample-token\" # Replace with your access token\n",
        "PROJECT_SLUG = \"fastlabel-sample\" # Replace with your project slug\n",
        "\n",
        "# Initialize client\n",
        "os.environ[\"FASTLABEL_ACCESS_TOKEN\"] = FASTLABEL_ACCESS_TOKEN\n",
        "client = fastlabel.Client()\n",
        "\n",
        "\n",
        "def get_all_tasks(\n",
        "    project_slug: str, status: str = None, external_status: str = None, tags: list = []\n",
        ") -> list:\n",
        "\n",
        "    # Iterate pages until new tasks are empty.\n",
        "    result = []\n",
        "    offset = None\n",
        "\n",
        "    print(\"Fetching tasks...\")\n",
        "    while True:\n",
        "        tasks = client.get_image_tasks(\n",
        "            # Change to another method (e.g., get_video_tasks) based on your requirement.\n",
        "            project=project_slug,\n",
        "            status=status,\n",
        "            external_status=external_status,\n",
        "            tags=tags,\n",
        "            limit=100,\n",
        "            offset=offset,\n",
        "        )\n",
        "        result.extend(tasks)\n",
        "\n",
        "        if len(tasks) > 0:\n",
        "            offset = len(result)\n",
        "            print(offset, \" fetched\")\n",
        "        else:\n",
        "            break\n",
        "\n",
        "    print(\"Fetching tasks finished!\")\n",
        "    print(\"Total tasks count: \", len(result))\n",
        "    return result\n",
        "\n",
        "\n",
        "if __name__ == \"__main__\":\n",
        "    print(get_all_tasks(project_slug=PROJECT_SLUG))\n"
      ]
    },
    {
      "cell_type": "markdown",
      "metadata": {
        "id": "D-_S76CYOAN5"
      },
      "source": [
        "## 7. データセットの全てのオブジェクトを取得"
      ]
    },
    {
      "cell_type": "markdown",
      "metadata": {},
      "source": [
        "#### 使い方\n",
        "1. オブジェクトが登録されたデータセットを用意する\n",
        "2. パラメータのFASTLABEL_ACCESS_TOKENを設定\n",
        "3. パラメータのDATASET_NAMEに用意したプロジェクトの名前を設定\n",
        "4. 実行\n",
        "\n",
        "#### パラメータ\n",
        "1. FASTLABEL_ACCESS_TOKEN:　プラットフォーム上で発行するアクセストークン\n",
        "2. DATASET_NAME:　データセットの名前"
      ]
    },
    {
      "cell_type": "code",
      "execution_count": null,
      "metadata": {
        "colab": {
          "base_uri": "https://localhost:8080/"
        },
        "id": "-mfFOZzCOHMi",
        "outputId": "1e2370ef-c22a-4388-e253-84e712985b1d"
      },
      "outputs": [
        {
          "name": "stdout",
          "output_type": "stream",
          "text": [
            "Fetching dataset objects...\n",
            "2  fetched\n",
            "Fetching dataset objects finished!\n",
            "Total dataset object count:  2\n",
            "[{'name': 'sample1.jpg', 'size': 1009370, 'width': 5184, 'height': 3888, 'tags': [], 'annotations': [{'id': '8bf32285-c99c-4dde-abc0-c6ffd548ccd1', 'type': 'bbox', 'title': 'animal', 'value': 'animal', 'points': [1387.3, 944.91, 2661.5, 3018.38], 'rotation': 0, 'confidenceScore': -1, 'color': '#4ad624', 'attributes': [], 'keypoints': []}], 'customMetadata': {}, 'createdAt': '2024-08-13T07:40:54.855Z', 'updatedAt': '2024-08-13T07:40:54.855Z'}, {'name': 'sample2.jpg', 'size': 375150, 'width': 2878, 'height': 1871, 'tags': [], 'annotations': [{'id': '49f5ef57-d4aa-4832-96d0-58911e0f817c', 'type': 'bbox', 'title': 'animal', 'value': 'animal', 'points': [1349.85, 167.97, 2394.59, 1750.39], 'rotation': 0, 'confidenceScore': -1, 'color': '#4ad624', 'attributes': [], 'keypoints': []}], 'customMetadata': {}, 'createdAt': '2024-08-13T07:40:57.052Z', 'updatedAt': '2024-08-13T07:40:57.052Z'}]\n"
          ]
        }
      ],
      "source": [
        "import fastlabel\n",
        "import os\n",
        "\n",
        "FASTLABEL_ACCESS_TOKEN = \"sample-token\" # Replace with your access token\n",
        "DATASET_NAME = \"fastlabel-sample\" # Replace with your dataset name\n",
        "\n",
        "# Initialize client\n",
        "os.environ[\"FASTLABEL_ACCESS_TOKEN\"] = FASTLABEL_ACCESS_TOKEN\n",
        "client = fastlabel.Client()\n",
        "\n",
        "\n",
        "def get_all_dataset_objects(dataset_name: str, tags: list[str] = None):\n",
        "    # Iterate pages until new tasks are empty.\n",
        "    result = []\n",
        "    offset = None\n",
        "\n",
        "    print(\"Fetching dataset objects...\")\n",
        "    while True:\n",
        "        datasets = client.get_dataset_objects(\n",
        "            dataset=dataset_name, tags=tags, offset=offset\n",
        "        )\n",
        "        result.extend(datasets)\n",
        "\n",
        "        if len(datasets) > 0:\n",
        "            offset = len(result)\n",
        "            print(offset, \" fetched\")\n",
        "        else:\n",
        "            break\n",
        "\n",
        "    print(\"Fetching dataset objects finished!\")\n",
        "    print(\"Total dataset object count: \", len(result))\n",
        "    return result\n",
        "\n",
        "\n",
        "if __name__ == \"__main__\":\n",
        "    print(get_all_dataset_objects(dataset_name=DATASET_NAME))\n"
      ]
    }
  ],
  "metadata": {
    "colab": {
      "collapsed_sections": [
        "Ivoy3t4Zc_KT",
        "E57w0Lu3Zi5A",
        "PgEX0Q6LqHNG",
        "Q9scAxMMsISH"
      ],
      "provenance": []
    },
    "kernelspec": {
      "display_name": "Python 3",
      "name": "python3"
    },
    "language_info": {
      "codemirror_mode": {
        "name": "ipython",
        "version": 3
      },
      "file_extension": ".py",
      "mimetype": "text/x-python",
      "name": "python",
      "nbconvert_exporter": "python",
      "pygments_lexer": "ipython3",
      "version": "3.11.9"
    }
  },
  "nbformat": 4,
  "nbformat_minor": 0
}
